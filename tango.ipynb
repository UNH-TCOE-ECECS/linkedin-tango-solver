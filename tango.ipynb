{
  "nbformat": 4,
  "nbformat_minor": 0,
  "metadata": {
    "colab": {
      "provenance": [],
      "authorship_tag": "ABX9TyM0D5vWElxXgdF8rjqy+dwv",
      "include_colab_link": true
    },
    "kernelspec": {
      "name": "python3",
      "display_name": "Python 3"
    },
    "language_info": {
      "name": "python"
    }
  },
  "cells": [
    {
      "cell_type": "markdown",
      "metadata": {
        "id": "view-in-github",
        "colab_type": "text"
      },
      "source": [
        "<a href=\"https://colab.research.google.com/github/UNH-TCOE-ECECS/linkedin-tango-solver/blob/main/tango.ipynb\" target=\"_parent\"><img src=\"https://colab.research.google.com/assets/colab-badge.svg\" alt=\"Open In Colab\"/></a>"
      ]
    },
    {
      "cell_type": "markdown",
      "source": [
        "@author: Mohamad Nassar\n",
        "\n",
        "March 2025"
      ],
      "metadata": {
        "id": "7diyliwZzTnE"
      }
    },
    {
      "cell_type": "code",
      "source": [
        "!pip install colorama"
      ],
      "metadata": {
        "colab": {
          "base_uri": "https://localhost:8080/"
        },
        "id": "NsMUoL2c2lVT",
        "outputId": "f7b23487-4e24-49f9-cd4c-f02295377c2d"
      },
      "execution_count": null,
      "outputs": [
        {
          "output_type": "stream",
          "name": "stdout",
          "text": [
            "Collecting colorama\n",
            "  Downloading colorama-0.4.6-py2.py3-none-any.whl.metadata (17 kB)\n",
            "Downloading colorama-0.4.6-py2.py3-none-any.whl (25 kB)\n",
            "Installing collected packages: colorama\n",
            "Successfully installed colorama-0.4.6\n"
          ]
        }
      ]
    },
    {
      "cell_type": "code",
      "source": [
        "# !pip install colorama\n",
        "import colorama\n",
        "from colorama import Fore, Back, Style, init\n"
      ],
      "metadata": {
        "id": "DMFistMmnKdG"
      },
      "execution_count": null,
      "outputs": []
    },
    {
      "cell_type": "code",
      "source": [
        "# Game encoding\n",
        "\n",
        "# Game 1 -- example\n",
        "# assume i,j is before u,v in the scan order left to right, top to bottom\n",
        "constraints_binary_equals = [\n",
        "    (1,5,2,5),\n",
        "    (2,4,3,4),\n",
        "    (3,3,4,3)\n",
        "]\n",
        "\n",
        "constraints_binary_diff = [\n",
        "   (0,5,1,5),\n",
        "   (4,3,5,3)\n",
        "]\n",
        "\n",
        "constraints_unary = {\n",
        "  (0,2):'S',\n",
        "  (1,2):'M',\n",
        "  (2,1):'M',\n",
        "  (2,2):'S',\n",
        "  (3,0):'S',\n",
        "  (3,1):'S',\n",
        "  (4,0):'M',\n",
        "  (5,0):'M'\n",
        "}\n",
        "\n",
        "# sol = [list (x) for x in [\"SMSSMM\", \"MSMMSS\", \"SMSMMS\", \"SSMSMM\", \"MSMSSM\", \"MMSMSS\"] ]"
      ],
      "metadata": {
        "id": "_bSN6F8JNBwG"
      },
      "execution_count": null,
      "outputs": []
    },
    {
      "cell_type": "code",
      "source": [
        "# Game 2 -- example\n",
        "\n",
        "# maintain i,j is before u,v in the scan order left to right, top to bottom\n",
        "constraints_binary_equals = [\n",
        "    # (i,j,u,v),\n",
        "    (1,1,2,1),\n",
        "    (1,2,1,3),\n",
        "    (1,4,2,4),\n",
        "    (3,4,4,4)\n",
        "]\n",
        "\n",
        "constraints_binary_diff = [\n",
        "    # (i,j,u,v),\n",
        "    (3,1,4,1),\n",
        "    (4,2,4,3)\n",
        "]\n",
        "\n",
        "constraints_unary = {\n",
        "   # (i,j): 'S',\n",
        "   # (i,j): 'M',\n",
        "   (0,0): 'S',\n",
        "   (0,1): 'M',\n",
        "   (1,0): 'M',\n",
        "   (0,4): 'M',\n",
        "   (0,5): 'M',\n",
        "   (1,5): 'S',\n",
        "   (4,0): 'M',\n",
        "   (5,0): 'M',\n",
        "   (5,1): 'M',\n",
        "   (5,4): 'S',\n",
        "   (5,5): 'S',\n",
        "   (4,5): 'S'\n",
        "\n",
        "}\n"
      ],
      "metadata": {
        "id": "Uj0KXjdROGiq"
      },
      "execution_count": null,
      "outputs": []
    },
    {
      "cell_type": "code",
      "source": [
        "# Game 3\n",
        "\n",
        "# maintain i,j is before u,v in the scan order left to right, top to bottom\n",
        "constraints_binary_equals = [\n",
        "    # (i,j,u,v),\n",
        "    (0,0,1,0),\n",
        "    (0,4,1,4),\n",
        "    (0,1,1,1),\n",
        "    (1,2,1,3),\n",
        "    (1,4,1,5),\n",
        "    (2,4,2,5),\n",
        "    (2,3,3,3),\n",
        "    (4,1,5,1)\n",
        "]\n",
        "\n",
        "constraints_binary_diff = [\n",
        "    # (i,j,u,v),\n",
        "    (0,2,1,2),\n",
        "    (1,2,2,2),\n",
        "    (1,3,1,4),\n",
        "    (1,1,2,1),\n",
        "    (2,3,2,4),\n",
        "    (3,4,4,4),\n",
        "    (4,4,5,4),\n",
        "    (4,5,5,5),\n",
        "    (1,3,1,4),\n",
        "    (2,0,2,1),\n",
        "    (3,0,3,1),\n",
        "    (3,1,3,2),\n",
        "    (3,4,3,5),\n",
        "    (4,0,4,1),\n",
        "    (4,2,4,3),\n",
        "    (4,3,4,4),\n",
        "    (4,0,4,1),\n",
        "    (4,2,5,2)\n",
        "\n",
        "]\n",
        "\n",
        "constraints_unary = {\n",
        "   # (i,j): 'S',\n",
        "   # (i,j): 'M',\n",
        "   (0,0): 'S',\n",
        "   (5,5): 'M'\n",
        "\n",
        "}"
      ],
      "metadata": {
        "id": "qGGR-Zvyi-uL"
      },
      "execution_count": null,
      "outputs": []
    },
    {
      "cell_type": "code",
      "source": [
        "board = [ [ '0' for i in range (6)] for j in range (6) ]\n",
        "\n",
        "valid_combs = [\"SSMMSM\", \"SSMSMM\", \"SMMSSM\", \"SMMSMS\", \"SMSMSM\", \"SMSMMS\", \"SMSSMM\"]\n",
        "\n",
        "valid_combs += [ \"\".join(\"S\" if l ==\"M\" else \"M\"  for comb in valid_combs for l in comb)[i*6:i*6+6] for i in range(7) ]\n",
        "\n",
        "print (valid_combs[:7])\n",
        "print (valid_combs[7:])\n",
        "\n",
        "def is_valid(board):\n",
        "  # for debug\n",
        "  # if all ( \"\".join(board[i]) in valid_combs for i in range(6) ):\n",
        "  #   print (\"rows passed\")\n",
        "  # if all  ( \"\".join(board[:][i]) in valid_combs for i in range(6) ):\n",
        "  #   print (\"cols passed\")\n",
        "\n",
        "  # if all ( board[i][j] == constraints_unary[(i,j)] for (i,j) in constraints_unary ):\n",
        "  #   print (\"unary passed\")\n",
        "  # if all ( board[i][j] == board[u][v] for (i,j,u,v) in constraints_binary_equals ):\n",
        "  #   print (\"binary equals passed\")\n",
        "  # if all ( board[i][j] != board[u][v] for (i,j,u,v) in constraints_binary_diff ):\n",
        "  #   print (\"binary diff passed\")\n",
        "\n",
        "  return all ( \"\".join(board[i]) in valid_combs for i in range(6) ) and \\\n",
        "  all ( \"\".join(board[:][i]) in valid_combs for i in range(6) ) and \\\n",
        "  all ( board[i][j] == constraints_unary[(i,j)] for (i,j) in constraints_unary ) and \\\n",
        "  all ( board[i][j] == board[u][v] for (i,j,u,v) in constraints_binary_equals ) and \\\n",
        "  all ( board[i][j] != board[u][v] for (i,j,u,v) in constraints_binary_diff)\n",
        "\n",
        "\n",
        "\n",
        "\n",
        "def draw_board(board):\n",
        "  for i in range(6):\n",
        "    for j in range(6):\n",
        "        if (i,j) in constraints_unary:\n",
        "          print (Fore.BLUE + board[i][j], end='')\n",
        "        else:\n",
        "          print( Fore.WHITE + board[i][j], end='')\n",
        "        if j < 5 and (i,j,i,j+1) in constraints_binary_equals:\n",
        "          print (\"=\", end='')\n",
        "        elif j < 5 and (i,j,i,j+1) in constraints_binary_diff:\n",
        "          print (\"x\", end='')\n",
        "        else:\n",
        "          print (\" \", end='')\n",
        "    print()\n",
        "    for j in range(6):\n",
        "      if i < 5 and (i,j,i+1,j) in constraints_binary_equals:\n",
        "        print ( \"= \", end='')\n",
        "      elif i < 5 and (i,j,i+1,j) in constraints_binary_diff:\n",
        "        print ( \"x \", end='')\n",
        "      else:\n",
        "        print (\"  \", end='')\n",
        "    print()\n",
        "\n",
        "\n",
        "draw_board(board)\n",
        "print ( is_valid(board) )\n",
        "# draw_board(sol)\n",
        "# print ( is_valid(sol))\n",
        "\n"
      ],
      "metadata": {
        "id": "YxisHOCOFDRW",
        "colab": {
          "base_uri": "https://localhost:8080/"
        },
        "outputId": "5929e7f7-71e0-4d4b-f43e-8e4596d24765"
      },
      "execution_count": null,
      "outputs": [
        {
          "output_type": "stream",
          "name": "stdout",
          "text": [
            "['SSMMSM', 'SSMSMM', 'SMMSSM', 'SMMSMS', 'SMSMSM', 'SMSMMS', 'SMSSMM']\n",
            "['MMSSMS', 'MMSMSS', 'MSSMMS', 'MSSMSM', 'MSMSMS', 'MSMSSM', 'MSMMSS']\n",
            "\u001b[34m0 \u001b[37m0 \u001b[37m0 \u001b[37m0 \u001b[37m0 \u001b[37m0 \n",
            "= = x   =   \n",
            "\u001b[37m0 \u001b[37m0 \u001b[37m0=\u001b[37m0x\u001b[37m0=\u001b[37m0 \n",
            "  x x       \n",
            "\u001b[37m0x\u001b[37m0 \u001b[37m0 \u001b[37m0x\u001b[37m0=\u001b[37m0 \n",
            "      =     \n",
            "\u001b[37m0x\u001b[37m0x\u001b[37m0 \u001b[37m0 \u001b[37m0x\u001b[37m0 \n",
            "        x   \n",
            "\u001b[37m0x\u001b[37m0 \u001b[37m0x\u001b[37m0x\u001b[37m0 \u001b[37m0 \n",
            "  = x   x x \n",
            "\u001b[37m0 \u001b[37m0 \u001b[37m0 \u001b[37m0 \u001b[37m0 \u001b[34m0 \n",
            "            \n",
            "False\n"
          ]
        }
      ]
    },
    {
      "cell_type": "code",
      "source": [
        "# check if a partial assignment is valid\n",
        "# all rows don't have three consecutive moons or three consecutive suns\n",
        "# all cols don't have three consecutive moons or three consecutive suns\n",
        "def is_partially_valid(board):\n",
        "    return \\\n",
        "    all ( any ( all (row[i] == comb[i] for i in range(6) if row[i] != '0')  for comb in valid_combs ) for row in board ) \\\n",
        "    and \\\n",
        "    all ( any ( all (board[i][j] == comb[i] for i in range(6) if board[i][j] != '0')  for comb in valid_combs ) for j in range(len(board)) ) \\\n",
        "    and \\\n",
        "    all ( board[i][j] == constraints_unary[(i,j)] for (i,j) in constraints_unary ) and \\\n",
        "    all ( board[i][j] == board[u][v] for (i,j,u,v) in constraints_binary_equals if board[i][j] != '0' and board[u][v] != '0') and \\\n",
        "    all ( board[i][j] != board[u][v] for (i,j,u,v) in constraints_binary_diff if board[i][j] != '0' and board[u][v] != '0')\n",
        "\n",
        "\n"
      ],
      "metadata": {
        "id": "zvZFFvtFyVFa"
      },
      "execution_count": null,
      "outputs": []
    },
    {
      "cell_type": "code",
      "source": [
        "# is_partially_valid(sol)"
      ],
      "metadata": {
        "id": "UM2bES7lFiXq"
      },
      "execution_count": null,
      "outputs": []
    },
    {
      "cell_type": "code",
      "source": [
        "# solutions = [ sol ]\n",
        "solutions = []"
      ],
      "metadata": {
        "id": "BVuEpsrn1CNq"
      },
      "execution_count": null,
      "outputs": []
    },
    {
      "cell_type": "code",
      "source": [],
      "metadata": {
        "id": "zx_L9YCl2tbi"
      },
      "execution_count": null,
      "outputs": []
    },
    {
      "cell_type": "code",
      "source": [
        "# solver\n",
        "\n",
        "\n",
        "# init\n",
        "for i, j in constraints_unary:\n",
        "  board[i][j] = constraints_unary[(i,j)]\n",
        "\n",
        "  # forward propag in case there are binary constraints with squares under unary constraints\n",
        "  for (u,v,m,n) in constraints_binary_equals:\n",
        "    if (i,j) == (u,v):\n",
        "      board[m][n] = board[u][v]\n",
        "    elif (i,j) == (m,n):\n",
        "      board[u][v] = board[m][n]\n",
        "\n",
        "  for (u,v,m,n) in constraints_binary_diff:\n",
        "    if (i,j) == (u,v):\n",
        "      if board[u][v] == \"M\":\n",
        "        board[m][n] = \"S\"\n",
        "      else:\n",
        "        board[m][n] = \"M\"\n",
        "    elif (i,j) == (m,n):\n",
        "        if board[m][n] == \"M\":\n",
        "          board[u][v] = \"S\"\n",
        "        else:\n",
        "          board[u][v] = \"M\"\n",
        "\n",
        "\n",
        "draw_board(board)\n",
        "print ( is_valid(board) )\n"
      ],
      "metadata": {
        "colab": {
          "base_uri": "https://localhost:8080/"
        },
        "id": "5eIC2lBZydoO",
        "outputId": "c40dd8e6-47e0-4377-8472-877c983e29e0"
      },
      "execution_count": null,
      "outputs": [
        {
          "output_type": "stream",
          "name": "stdout",
          "text": [
            "\u001b[34mS \u001b[37m0 \u001b[37m0 \u001b[37m0 \u001b[37m0 \u001b[37m0 \n",
            "= = x   =   \n",
            "\u001b[37mS \u001b[37m0 \u001b[37m0=\u001b[37m0x\u001b[37m0=\u001b[37m0 \n",
            "  x x       \n",
            "\u001b[37m0x\u001b[37m0 \u001b[37m0 \u001b[37m0x\u001b[37m0=\u001b[37m0 \n",
            "      =     \n",
            "\u001b[37m0x\u001b[37m0x\u001b[37m0 \u001b[37m0 \u001b[37m0x\u001b[37m0 \n",
            "        x   \n",
            "\u001b[37m0x\u001b[37m0 \u001b[37m0x\u001b[37m0x\u001b[37m0 \u001b[37mS \n",
            "  = x   x x \n",
            "\u001b[37m0 \u001b[37m0 \u001b[37m0 \u001b[37m0 \u001b[37m0 \u001b[34mM \n",
            "            \n",
            "False\n"
          ]
        }
      ]
    },
    {
      "cell_type": "code",
      "source": [
        "\n",
        "def solve(board):\n",
        "  if all ( '0' not in row for row in board ):\n",
        "    return board\n",
        "  board1 = [ x.copy() for x in board ]\n",
        "  for i in range(6):\n",
        "    for j in range(6):\n",
        "      # assign (i, j)\n",
        "      if board1[i][j] == '0':\n",
        "        for v in [\"S\", \"M\"]:\n",
        "          board1[i][j] = v\n",
        "          # # forward propagation\n",
        "          # for i1 in range (i, 6):\n",
        "          #   for j1 in range (j, 6):\n",
        "          #     if board1[i1][j1] != '0':\n",
        "          #       for (u,v,m,n) in constraints_binary_equals:\n",
        "          #         if (i1,j1) == (u,v):\n",
        "          #           board1[m][n] = board1[u][v]\n",
        "          #       for (u,v,m,n) in constraints_binary_diff:\n",
        "          #         if (i1,j1) == (u,v):\n",
        "          #           if board1[u][v] == \"S\":\n",
        "          #             board1[m][n] = \"M\"\n",
        "          #           else:\n",
        "          #             board1[m][n] = \"S\"\n",
        "          # draw_board(board1)\n",
        "          # print()\n",
        "\n",
        "          if is_partially_valid(board1):\n",
        "            # print(board1)\n",
        "            s = solve(board1)\n",
        "            if s != None:\n",
        "              return s\n",
        "\n",
        "\n",
        "\n",
        "        # neither S nor M worked\n",
        "        return None\n",
        "\n",
        "ans = solve(board)\n",
        "draw_board(ans)\n",
        "\n",
        "if ans in solutions:\n",
        "  print (\"same as prev sol\")\n",
        "else:\n",
        "  solutions.append(ans)\n",
        "  print (\"new sol\")\n"
      ],
      "metadata": {
        "colab": {
          "base_uri": "https://localhost:8080/"
        },
        "id": "H_5OoFqeL0C5",
        "outputId": "e350378d-5e4f-446a-cb51-bee500ce0d16"
      },
      "execution_count": null,
      "outputs": [
        {
          "output_type": "stream",
          "name": "stdout",
          "text": [
            "\u001b[34mS \u001b[37mM \u001b[37mM \u001b[37mS \u001b[37mM \u001b[37mS \n",
            "= = x   =   \n",
            "\u001b[37mS \u001b[37mM \u001b[37mS=\u001b[37mSx\u001b[37mM=\u001b[37mM \n",
            "  x x       \n",
            "\u001b[37mMx\u001b[37mS \u001b[37mM \u001b[37mMx\u001b[37mS=\u001b[37mS \n",
            "      =     \n",
            "\u001b[37mSx\u001b[37mMx\u001b[37mS \u001b[37mM \u001b[37mSx\u001b[37mM \n",
            "        x   \n",
            "\u001b[37mMx\u001b[37mS \u001b[37mMx\u001b[37mSx\u001b[37mM \u001b[37mS \n",
            "  = x   x x \n",
            "\u001b[37mM \u001b[37mS \u001b[37mS \u001b[37mM \u001b[37mS \u001b[34mM \n",
            "            \n",
            "new sol\n"
          ]
        }
      ]
    },
    {
      "cell_type": "code",
      "source": [
        "for s in solutions:\n",
        "  draw_board(s)\n",
        "  print()"
      ],
      "metadata": {
        "colab": {
          "base_uri": "https://localhost:8080/"
        },
        "id": "Q8STVovT2Eiu",
        "outputId": "66973be5-3c76-4a5b-e87d-76febcf1260d"
      },
      "execution_count": null,
      "outputs": [
        {
          "output_type": "stream",
          "name": "stdout",
          "text": [
            "\u001b[34mS \u001b[37mM \u001b[37mM \u001b[37mS \u001b[37mM \u001b[37mS \n",
            "= = x   =   \n",
            "\u001b[37mS \u001b[37mM \u001b[37mS=\u001b[37mSx\u001b[37mM=\u001b[37mM \n",
            "  x x       \n",
            "\u001b[37mMx\u001b[37mS \u001b[37mM \u001b[37mMx\u001b[37mS=\u001b[37mS \n",
            "      =     \n",
            "\u001b[37mSx\u001b[37mMx\u001b[37mS \u001b[37mM \u001b[37mSx\u001b[37mM \n",
            "        x   \n",
            "\u001b[37mMx\u001b[37mS \u001b[37mMx\u001b[37mSx\u001b[37mM \u001b[37mS \n",
            "  = x   x x \n",
            "\u001b[37mM \u001b[37mS \u001b[37mS \u001b[37mM \u001b[37mS \u001b[34mM \n",
            "            \n",
            "\n"
          ]
        }
      ]
    },
    {
      "cell_type": "code",
      "source": [],
      "metadata": {
        "id": "Qz6xcIfWPZvX"
      },
      "execution_count": null,
      "outputs": []
    },
    {
      "cell_type": "markdown",
      "source": [
        "### Open-ended questions / Discussion:\n",
        "- Do you consider this as AI?\n",
        "- Can you make a more efficient solution?\n",
        "- how to encode the game and how to extract the constraints from the encoding?\n",
        "- Can you write code to extract encoding from an image?\n",
        "- how to generate different solutions for the same puzzle?\n",
        "- Can you write a Tango game generator\n",
        "- Can you provide a graphical interface to the game (front-end)?\n",
        "\n"
      ],
      "metadata": {
        "id": "yYcUNfDkLWka"
      }
    }
  ]
}